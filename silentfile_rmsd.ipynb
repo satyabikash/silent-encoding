{
 "cells": [
  {
   "cell_type": "markdown",
   "metadata": {},
   "source": [
    "### Rosetta SilentStruct r.m.s.d Calculations"
   ]
  },
  {
   "cell_type": "code",
   "execution_count": null,
   "metadata": {},
   "outputs": [],
   "source": [
    "# import modules \n",
    "import sys\n",
    "sys.path.append('path/to/dl_binder_design')  # library from :https://github.com/bcov77/silent_tools \n",
    "import numpy as np\n",
    "import MDAnalysis as mda\n",
    "from include.silent_tools import silent_tools \n",
    "from pyrosetta.rosetta.std import stringstream\n",
    "import numpy as np\n",
    "from pyrosetta.rosetta.core.io.silent import SilentFileData, SilentFileOptions\n",
    "from pyrosetta.rosetta.std import stringstream\n",
    "from pyrosetta import *\n",
    "from rosetta import *\n",
    "init( '-in:file:silent_struct_type binary -mute all' )"
   ]
  },
  {
   "cell_type": "code",
   "execution_count": 11,
   "metadata": {},
   "outputs": [],
   "source": [
    "# Function to calculate RMSD after translation and rotation using the Kabsch algorithm\n",
    "def kabsch_rmsd(P, Q):\n",
    "    \"\"\"Calculate the RMSD after optimal rotational alignment (Kabsch algorithm).\"\"\"\n",
    "    \n",
    "    # Calculate the centroids of P and Q\n",
    "    centroid_P = np.mean(P, axis=0)\n",
    "    centroid_Q = np.mean(Q, axis=0)\n",
    "    \n",
    "    # Center the coordinates by subtracting the centroid\n",
    "    P_centered = P - centroid_P\n",
    "    Q_centered = Q - centroid_Q\n",
    "    \n",
    "    # Perform singular value decomposition to get the optimal rotation matrix\n",
    "    C = np.dot(P_centered.T, Q_centered)\n",
    "    V, S, W = np.linalg.svd(C)\n",
    "    \n",
    "    # Compute the optimal rotation matrix\n",
    "    d = (np.linalg.det(V) * np.linalg.det(W)) < 0.0\n",
    "    if d:\n",
    "        S[-1] = -S[-1]\n",
    "        V[:, -1] = -V[:, -1]\n",
    "    \n",
    "    U = np.dot(V, W)\n",
    "    \n",
    "    # Rotate the centered coordinates of P\n",
    "    P_rotated = np.dot(P_centered, U)\n",
    "    \n",
    "    # Calculate the RMSD between the rotated P and Q\n",
    "    diff = P_rotated - Q_centered\n",
    "    rmsd = np.sqrt(np.mean(np.sum(diff**2, axis=1)))\n",
    "    \n",
    "    return rmsd\n"
   ]
  },
  {
   "cell_type": "code",
   "execution_count": null,
   "metadata": {},
   "outputs": [],
   "source": [
    "# Getting data for original pdb\n",
    "original_pdb = 'native.pdb'\n",
    "E2_motif = mda.Universe(original_pdb)\n",
    "E2_backbone = E2_motif.select_atoms('resid 1-4 or resid 5-10 and name CA + N + C + O and chainID A')\n",
    "E2_Ca = E2_motif.select_atoms('resid 1-4 or resid 5-10 and name CA and chainID A')\n"
   ]
  },
  {
   "cell_type": "code",
   "execution_count": null,
   "metadata": {},
   "outputs": [],
   "source": [
    "# input\n",
    "\n",
    "silent_filepath = \"path/to/file/xyz.silent\"\n",
    "Motif_res = ['position of fixed residues'] # fixed residues. \n",
    "\n",
    "motif_residues = []\n",
    "for resi in Motif_res:\n",
    "    motif_residues.append(int(resi))\n",
    "\n",
    "# Auto Process for calculations of Ca rmsd's \n",
    "silent_index = silent_tools.get_silent_index( silent_filepath)\n",
    "struct_iterator = silent_tools.get_silent_index(silent_filepath)['tags']\n",
    "sfd_in = rosetta.core.io.silent.SilentFileData(rosetta.core.io.silent.SilentFileOptions())\n",
    "sfd_in.read_file(silent_filepath)\n",
    "res = sfd_in.get_structure(struct_iterator[0]) # We only have one structure but different structure can be mentioned.\n",
    "design_pose = Pose()\n",
    "res.fill_pose(design_pose)\n",
    "\n",
    "# Initialize the design_backbone array\n",
    "design_backbone = np.zeros((len(motif_residues) * 4, 3), dtype=np.float64) # storing CA+N+C+O coordinates\n",
    "Motif_CA_coords = np.zeros((len(motif_residues) , 3) , dtype=np.float64) # Storing CA coordinates \n",
    "\n",
    "# Loop through the list of residues\n",
    "for index, i in enumerate(motif_residues):\n",
    "    residue = design_pose.residue(i)\n",
    "    ca_coords = residue.xyz('CA')\n",
    "    N_coords = residue.xyz('N')\n",
    "    C_coords = residue.xyz('C')\n",
    "    O_coords = residue.xyz('O')\n",
    "\n",
    "    # Motif CA coordinates\n",
    "    Motif_CA_coords[index] = ca_coords\n",
    "    # Store coordinates in the design_backbone array\n",
    "    design_backbone[index * 4] = N_coords\n",
    "    design_backbone[index * 4 + 1] = ca_coords\n",
    "    design_backbone[index * 4 + 2] = C_coords\n",
    "    design_backbone[index * 4 + 3] = O_coords\n",
    "\n",
    "ca_rmsd = kabsch_rmsd(E2_Ca.positions , Motif_CA_coords)\n",
    "bb_rmsd = kabsch_rmsd(E2_backbone.positions, design_backbone)\n",
    "print(f\" Backbone RMSD: {bb_rmsd:.3f} Å\")\n",
    "print(f\" CA RMSD: {ca_rmsd:.3f} Å\")"
   ]
  }
 ],
 "metadata": {
  "kernelspec": {
   "display_name": "proteinmpnn_binder_design",
   "language": "python",
   "name": "python3"
  },
  "language_info": {
   "codemirror_mode": {
    "name": "ipython",
    "version": 3
   },
   "file_extension": ".py",
   "mimetype": "text/x-python",
   "name": "python",
   "nbconvert_exporter": "python",
   "pygments_lexer": "ipython3",
   "version": "3.11.9"
  }
 },
 "nbformat": 4,
 "nbformat_minor": 2
}
